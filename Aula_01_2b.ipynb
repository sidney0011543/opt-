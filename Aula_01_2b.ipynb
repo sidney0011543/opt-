{
  "nbformat": 4,
  "nbformat_minor": 0,
  "metadata": {
    "colab": {
      "provenance": [],
      "authorship_tag": "ABX9TyP8Q4fwgpAc6BYvBUP/IQ05",
      "include_colab_link": true
    },
    "kernelspec": {
      "name": "python3",
      "display_name": "Python 3"
    },
    "language_info": {
      "name": "python"
    }
  },
  "cells": [
    {
      "cell_type": "markdown",
      "metadata": {
        "id": "view-in-github",
        "colab_type": "text"
      },
      "source": [
        "<a href=\"https://colab.research.google.com/github/sidney0011543/opt-/blob/main/Aula_01_2b.ipynb\" target=\"_parent\"><img src=\"https://colab.research.google.com/assets/colab-badge.svg\" alt=\"Open In Colab\"/></a>"
      ]
    },
    {
      "cell_type": "markdown",
      "source": [
        "Eu programei"
      ],
      "metadata": {
        "id": "GTTI3mRCR9Y3"
      }
    },
    {
      "cell_type": "code",
      "execution_count": 1,
      "metadata": {
        "colab": {
          "base_uri": "https://localhost:8080/"
        },
        "id": "Q8gDj1_eQ7Os",
        "outputId": "1b9a81eb-cc70-42fd-9792-7c4561509f80"
      },
      "outputs": [
        {
          "output_type": "stream",
          "name": "stdout",
          "text": [
            "Olá mundo!\n"
          ]
        }
      ],
      "source": [
        "print(\"Olá mundo!\")\n"
      ]
    },
    {
      "cell_type": "code",
      "source": [
        "nome = \"maria\"\n",
        "idade = 15\n",
        "print(\"Meu nome é\",nome, \"e tenho\",idade, (\"anos\"))"
      ],
      "metadata": {
        "colab": {
          "base_uri": "https://localhost:8080/"
        },
        "id": "3YKEzuj9SsC3",
        "outputId": "20e476af-881d-489e-b869-bac96257b690"
      },
      "execution_count": 2,
      "outputs": [
        {
          "output_type": "stream",
          "name": "stdout",
          "text": [
            "Meu nome é maria e tenho 15 anos\n"
          ]
        }
      ]
    },
    {
      "cell_type": "markdown",
      "source": [
        "O nome dela é maria"
      ],
      "metadata": {
        "id": "VaHOL58GTFBP"
      }
    },
    {
      "cell_type": "code",
      "source": [
        "nome = input (\"qual é o seu nome?\")\n",
        "print (\"Bem-vindo(a)\")"
      ],
      "metadata": {
        "colab": {
          "base_uri": "https://localhost:8080/"
        },
        "id": "fGstfPKhTfzX",
        "outputId": "e57161cf-07ab-48e4-f7c9-52029dcaeac7"
      },
      "execution_count": 10,
      "outputs": [
        {
          "output_type": "stream",
          "name": "stdout",
          "text": [
            "qual é o seu nome?junior\n",
            "Bem-vindo(a)\n"
          ]
        }
      ]
    },
    {
      "cell_type": "code",
      "source": [
        "nota = 7\n",
        "if nota >= 6:\n",
        "    print(\"Aprovado\")\n",
        "else:\n",
        "    print(\"Reprovado\")"
      ],
      "metadata": {
        "colab": {
          "base_uri": "https://localhost:8080/"
        },
        "id": "-aQvNqk_UAHd",
        "outputId": "0ce79990-f1e3-4839-ac75-9179eba0a6a0"
      },
      "execution_count": 13,
      "outputs": [
        {
          "output_type": "stream",
          "name": "stdout",
          "text": [
            "Aprovado\n"
          ]
        }
      ]
    },
    {
      "cell_type": "code",
      "source": [
        "a = 10\n",
        "b = 5\n",
        "print(\"soma:\",a+b)\n",
        "print(\"subtração:\",a-b)\n",
        "print(\"multiplicação:\",a*b)\n",
        "print(\"divisão:\",a/b)\n"
      ],
      "metadata": {
        "id": "WhsE0sPsVKpu"
      },
      "execution_count": null,
      "outputs": []
    }
  ]
}